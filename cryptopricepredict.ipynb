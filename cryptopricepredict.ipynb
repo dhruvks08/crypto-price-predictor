{
 "cells": [
  {
   "cell_type": "markdown",
   "id": "4ac8edcb-d996-40ac-8513-3a262455e096",
   "metadata": {},
   "source": [
    "<h1>Cryptocurrency Price Prediction Using LSTM</h1>\n",
    "<p>This project implements a Long Short-Term Memory (LSTM) neural network to predict the price of Bitcoin using historical data from Yahoo Finance. The model is trained on past price data and attempts to forecast future prices based on patterns identified during training.</p>"
   ]
  },
  {
   "cell_type": "markdown",
   "id": "127052ce-257e-436b-a8e0-c46346cf8864",
   "metadata": {},
   "source": [
    "<h2>Code Breakdown</h2>\n",
    "<h3>1. Data Collection:</h3>"
   ]
  },
  {
   "cell_type": "code",
   "execution_count": 1,
   "id": "69843c56-728b-4097-b3af-f4306073a97b",
   "metadata": {},
   "outputs": [
    {
     "name": "stderr",
     "output_type": "stream",
     "text": [
      "[*********************100%***********************]  1 of 1 completed\n"
     ]
    }
   ],
   "source": [
    "import yfinance as yf\n",
    "\n",
    "# Fetch Bitcoin price data for the financial year 2023-24\n",
    "start_date = '2023-04-01'\n",
    "end_date = '2024-03-31'\n",
    "bitcoin_data = yf.download('BTC-USD', start=start_date, end=end_date)"
   ]
  },
  {
   "cell_type": "markdown",
   "id": "c4f3b671-16c5-457b-bf20-3a8d2ed9651b",
   "metadata": {},
   "source": [
    "<p>The data is fetched using the Yahoo Finance API, specifying Bitcoin (BTC-USD) and the required date range (April 2023 to March 2024).\n",
    "<br><br> This part automates the retrieval of historical financial data, which is crucial for training the predictive model.</p>"
   ]
  },
  {
   "cell_type": "markdown",
   "id": "9974ca4a-e2ef-4f8e-b2fd-2f2af9ec96ba",
   "metadata": {},
   "source": [
    "<h3>2. Data Preprocessing:</h3>"
   ]
  },
  {
   "cell_type": "code",
   "execution_count": 3,
   "id": "d2243182-02a2-4257-a4bc-e0c908c08351",
   "metadata": {},
   "outputs": [],
   "source": [
    "import pandas as pd\n",
    "import numpy as np\n",
    "from sklearn.preprocessing import MinMaxScaler\n",
    "\n",
    "# Extract 'Close' price and ensure 'Date' is the index\n",
    "data = bitcoin_data[['Close']]\n",
    "data.index = pd.to_datetime(data.index)\n",
    "\n",
    "# Normalize data\n",
    "scaler = MinMaxScaler(feature_range=(0, 1))\n",
    "scaled_data = scaler.fit_transform(data)"
   ]
  },
  {
   "cell_type": "markdown",
   "id": "48ca614c-efac-4af2-97b5-7398fe3ed3eb",
   "metadata": {},
   "source": [
    "<p>Select only the 'Close' price for Bitcoin and normalize it using MinMaxScaler to scale the data between 0 and 1.\n",
    "<br><br>The LSTM model performs better with scaled data, so normalization is essential. This ensures faster convergence and avoids large numerical discrepancies.</p>"
   ]
  },
  {
   "cell_type": "markdown",
   "id": "ece482fc-a36c-4de6-baa5-cf865299e711",
   "metadata": {},
   "source": [
    "<h3>3. Dataset Creation for LSTM:</h3>"
   ]
  },
  {
   "cell_type": "code",
   "execution_count": 5,
   "id": "68f93c17-d89c-45fd-a0d9-4491a6a5cd2b",
   "metadata": {},
   "outputs": [],
   "source": [
    "def create_dataset(dataset, look_back=1):\n",
    "    X, y = [], []\n",
    "    for i in range(len(dataset) - look_back):\n",
    "        a = dataset[i:(i + look_back), 0]\n",
    "        X.append(a)\n",
    "        y.append(dataset[i + look_back, 0])\n",
    "    return np.array(X), np.array(y)\n",
    "\n",
    "look_back = 60  # Number of time steps to look back\n",
    "X, y = create_dataset(scaled_data, look_back)\n",
    "X = X.reshape((X.shape[0], X.shape[1], 1))"
   ]
  },
  {
   "cell_type": "markdown",
   "id": "7eef4360-8a42-4c4b-8c96-9b3829c19678",
   "metadata": {},
   "source": [
    "<p>Prepare the data for training by creating sequences of length look_back (60 days) for the input features X, and corresponding targets y.\n",
    "<br><br>LSTM models are sequence-based, and this function reshapes the data so the model can learn temporal dependencies.</p>"
   ]
  },
  {
   "cell_type": "markdown",
   "id": "eb687e4c-09c4-46cb-98f8-bfae01ec0371",
   "metadata": {},
   "source": [
    "<h3>4. LSTM Model Building:</h3>"
   ]
  },
  {
   "cell_type": "code",
   "execution_count": 7,
   "id": "fd39ebcc-df72-4315-8c26-9b1d1924460e",
   "metadata": {},
   "outputs": [],
   "source": [
    "from tensorflow.keras.models import Sequential\n",
    "from tensorflow.keras.layers import LSTM, Dense, Input\n",
    "from tensorflow.keras.optimizers import Adam\n",
    "\n",
    "# Build LSTM model\n",
    "model = Sequential()\n",
    "model.add(Input(shape=(look_back, 1)))  # Define input shape with Input layer\n",
    "model.add(LSTM(50, return_sequences=True))\n",
    "model.add(LSTM(50))\n",
    "model.add(Dense(1))\n",
    "model.compile(optimizer=Adam(), loss='mean_squared_error')"
   ]
  },
  {
   "cell_type": "markdown",
   "id": "2ff6a91b-caa0-41fe-8236-c3053789e82a",
   "metadata": {},
   "source": [
    "<p>Define and compile the LSTM neural network architecture.\n",
    "<br><br>• Two LSTM layers are used to capture complex temporal dependencies.<br>\n",
    "• The final Dense layer is responsible for predicting the next price.<br>\n",
    "• Adam optimizer ensures efficient optimization of the model.</p>"
   ]
  },
  {
   "cell_type": "markdown",
   "id": "2559ffb8-c57f-47f1-b2af-c4bb4af8ae63",
   "metadata": {},
   "source": [
    "<h3>5. Training the Model:</h3>"
   ]
  },
  {
   "cell_type": "code",
   "execution_count": 9,
   "id": "775e3bba-251e-4f69-878b-601bb5b31ed1",
   "metadata": {},
   "outputs": [
    {
     "name": "stdout",
     "output_type": "stream",
     "text": [
      "Epoch 1/10\n",
      "\u001b[1m10/10\u001b[0m \u001b[32m━━━━━━━━━━━━━━━━━━━━\u001b[0m\u001b[37m\u001b[0m \u001b[1m1s\u001b[0m 19ms/step - loss: 0.0943\n",
      "Epoch 2/10\n",
      "\u001b[1m10/10\u001b[0m \u001b[32m━━━━━━━━━━━━━━━━━━━━\u001b[0m\u001b[37m\u001b[0m \u001b[1m0s\u001b[0m 19ms/step - loss: 0.0228\n",
      "Epoch 3/10\n",
      "\u001b[1m10/10\u001b[0m \u001b[32m━━━━━━━━━━━━━━━━━━━━\u001b[0m\u001b[37m\u001b[0m \u001b[1m0s\u001b[0m 18ms/step - loss: 0.0108\n",
      "Epoch 4/10\n",
      "\u001b[1m10/10\u001b[0m \u001b[32m━━━━━━━━━━━━━━━━━━━━\u001b[0m\u001b[37m\u001b[0m \u001b[1m0s\u001b[0m 19ms/step - loss: 0.0049\n",
      "Epoch 5/10\n",
      "\u001b[1m10/10\u001b[0m \u001b[32m━━━━━━━━━━━━━━━━━━━━\u001b[0m\u001b[37m\u001b[0m \u001b[1m0s\u001b[0m 19ms/step - loss: 0.0040\n",
      "Epoch 6/10\n",
      "\u001b[1m10/10\u001b[0m \u001b[32m━━━━━━━━━━━━━━━━━━━━\u001b[0m\u001b[37m\u001b[0m \u001b[1m0s\u001b[0m 16ms/step - loss: 0.0033\n",
      "Epoch 7/10\n",
      "\u001b[1m10/10\u001b[0m \u001b[32m━━━━━━━━━━━━━━━━━━━━\u001b[0m\u001b[37m\u001b[0m \u001b[1m0s\u001b[0m 19ms/step - loss: 0.0032\n",
      "Epoch 8/10\n",
      "\u001b[1m10/10\u001b[0m \u001b[32m━━━━━━━━━━━━━━━━━━━━\u001b[0m\u001b[37m\u001b[0m \u001b[1m0s\u001b[0m 17ms/step - loss: 0.0027\n",
      "Epoch 9/10\n",
      "\u001b[1m10/10\u001b[0m \u001b[32m━━━━━━━━━━━━━━━━━━━━\u001b[0m\u001b[37m\u001b[0m \u001b[1m0s\u001b[0m 15ms/step - loss: 0.0027\n",
      "Epoch 10/10\n",
      "\u001b[1m10/10\u001b[0m \u001b[32m━━━━━━━━━━━━━━━━━━━━\u001b[0m\u001b[37m\u001b[0m \u001b[1m0s\u001b[0m 18ms/step - loss: 0.0029\n"
     ]
    },
    {
     "data": {
      "text/plain": [
       "<keras.src.callbacks.history.History at 0x176ed6330>"
      ]
     },
     "execution_count": 9,
     "metadata": {},
     "output_type": "execute_result"
    }
   ],
   "source": [
    "# Train the model\n",
    "model.fit(X, y, epochs=10, batch_size=32, verbose=1)"
   ]
  },
  {
   "cell_type": "markdown",
   "id": "7402a047-8153-4933-af85-391e17d97ef0",
   "metadata": {},
   "source": [
    "<p>The LSTM model is trained on the data for 10 epochs using a batch size of 32.<br><br>\n",
    "During training, the model learns to adjust its weights to minimize the loss function (mean_squared_error).</p>"
   ]
  },
  {
   "cell_type": "markdown",
   "id": "938244df-652f-42f6-90a7-e917eef452ba",
   "metadata": {},
   "source": [
    "<h3>6. Prediction of Future Prices:</h3>"
   ]
  },
  {
   "cell_type": "code",
   "execution_count": 24,
   "id": "9f951ba7-0b1d-444b-a033-c0b462b2ce7d",
   "metadata": {},
   "outputs": [],
   "source": [
    "def predict_future(model, data, look_back, future_days):\n",
    "    predictions = []\n",
    "    current_sequence = data[-look_back:]\n",
    "    for _ in range(future_days):\n",
    "        x_input = current_sequence.reshape((1, look_back, 1))\n",
    "        future_price = model.predict(x_input, verbose=0)\n",
    "        predictions.append(future_price[0, 0])\n",
    "        current_sequence = np.append(current_sequence[1:], future_price, axis=0)\n",
    "    return np.array(predictions)\n",
    "\n",
    "future_days = 30\n",
    "future_predictions = predict_future(model, scaled_data, look_back, future_days)"
   ]
  },
  {
   "cell_type": "markdown",
   "id": "5c010282-c4cb-448a-8705-bbef072f32e0",
   "metadata": {},
   "source": [
    "<p>Predict the next future_days (30 days in this case) of Bitcoin prices.<br><br>\n",
    "After training, the model is used to make rolling predictions based on the most recent sequence of data.</p>"
   ]
  },
  {
   "cell_type": "markdown",
   "id": "05686b59-e17e-4f3b-909d-422957ae68c0",
   "metadata": {},
   "source": [
    "<h3>7. Inverse Transformation and Plotting:</h3>"
   ]
  },
  {
   "cell_type": "code",
   "execution_count": 26,
   "id": "bbea3488-5310-4768-bcdc-e9b4c457d95d",
   "metadata": {},
   "outputs": [
    {
     "data": {
      "image/png": "[encoded data removed]",
      "text/plain": [
       "<Figure size 1200x600 with 1 Axes>"
      ]
     },
     "metadata": {},
     "output_type": "display_data"
    }
   ],
   "source": [
    "# Inverse transform predictions\n",
    "scaled_data_inv = scaler.inverse_transform(scaled_data)\n",
    "future_predictions_inv = scaler.inverse_transform(future_predictions.reshape(-1, 1))\n",
    "\n",
    "# Plot results\n",
    "import matplotlib.pyplot as plt\n",
    "\n",
    "plt.figure(figsize=(12, 6))\n",
    "plt.plot(data.index, data['Close'], color='blue', label='Actual Price')\n",
    "\n",
    "# Plot predictions\n",
    "predicted_dates = pd.date_range(start=data.index[-1] + pd.Timedelta(days=1), periods=future_days)\n",
    "plt.plot(predicted_dates, future_predictions_inv, color='green', linestyle='--', label='Future Predictions')\n",
    "\n",
    "plt.title('Bitcoin Price Prediction')\n",
    "plt.xlabel('Date')\n",
    "plt.ylabel('Price')\n",
    "plt.legend()\n",
    "plt.show()"
   ]
  },
  {
   "cell_type": "markdown",
   "id": "22b50036-33de-47fe-b322-3e70ca746191",
   "metadata": {},
   "source": [
    "<p>Visualize the actual prices and future predictions on a plot.<br><br>\n",
    "The final predictions are inverse-transformed back to the original scale. A plot is generated, showing actual prices and predicted future prices.</p>"
   ]
  }
 ],
 "metadata": {
  "kernelspec": {
   "display_name": "Python 3 (ipykernel)",
   "language": "python",
   "name": "python3"
  },
  "language_info": {
   "codemirror_mode": {
    "name": "ipython",
    "version": 3
   },
   "file_extension": ".py",
   "mimetype": "text/x-python",
   "name": "python",
   "nbconvert_exporter": "python",
   "pygments_lexer": "ipython3",
   "version": "3.12.2"
  }
 },
 "nbformat": 4,
 "nbformat_minor": 5
}
